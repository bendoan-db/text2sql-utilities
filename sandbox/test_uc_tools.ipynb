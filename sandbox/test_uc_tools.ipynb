{
 "cells": [
  {
   "cell_type": "code",
   "execution_count": 0,
   "metadata": {
    "application/vnd.databricks.v1+cell": {
     "cellMetadata": {
      "byteLimit": 2048000,
      "rowLimit": 10000
     },
     "inputWidgets": {},
     "nuid": "043fd588-97de-4625-b625-6238fad8329a",
     "showTitle": false,
     "tableResultSettingsMap": {},
     "title": ""
    }
   },
   "outputs": [],
   "source": [
    "# Install Unity Catalog AI integration packages with the Databricks extra\n",
    "%pip install -q unitycatalog-ai[databricks]\n",
    "%pip install -q unitycatalog-langchain[databricks]\n",
    "\n",
    "# Install the Databricks LangChain integration package\n",
    "%pip install -q databricks-langchain\n",
    "\n",
    "dbutils.library.restartPython()"
   ]
  },
  {
   "cell_type": "code",
   "execution_count": 0,
   "metadata": {
    "application/vnd.databricks.v1+cell": {
     "cellMetadata": {
      "byteLimit": 2048000,
      "rowLimit": 10000
     },
     "inputWidgets": {},
     "nuid": "805524d6-6765-4392-8985-4fbc372ed69e",
     "showTitle": false,
     "tableResultSettingsMap": {},
     "title": ""
    }
   },
   "outputs": [],
   "source": [
    "def get_columns(table_name:str, column_name:str) -> str:\n",
    "    \"\"\"\n",
    "    A function that accepts a table name and a column name and returns all of the unique values in the given column for the given table\n",
    "\n",
    "    Args:\n",
    "        table_name (str): the fully qualified name of the table, in the format 'catalog'.'schema'.'table'\n",
    "        column_name (str): the name of the column\n",
    "\n",
    "    Returns:\n",
    "        str: a string of the unique values in the given column for the given table\n",
    "    \"\"\"\n",
    "    import os\n",
    "    from databricks.sdk import WorkspaceClient\n",
    "    \n",
    "    query_text = f\"\"\"SELECT DISTINCT {column_name} FROM {table_name}\"\"\"\n",
    "    \n",
    "    try:\n",
    "      w = WorkspaceClient(host=os.environ[\"DATABRICKS_HOST\"], token=os.environ[\"DATABRICKS_TOKEN\"])\n",
    "      results = w.statement_execution.execute_statement(query_text, warehouse_id=os.environ[\"DATABRICKS_WAREHOUSE_ID\"])\n",
    "\n",
    "      results_list = [f\"`{t[0]}`\" for t in results.result.data_array]\n",
    "      results_output = ',\\n'.join(results_list)\n",
    "\n",
    "      return results_output\n",
    "    except Exception as e:\n",
    "      raise Exception(f\"Error executing query: {e}\")\n",
    "      pass"
   ]
  },
  {
   "cell_type": "code",
   "execution_count": 0,
   "metadata": {
    "application/vnd.databricks.v1+cell": {
     "cellMetadata": {
      "byteLimit": 2048000,
      "rowLimit": 10000
     },
     "inputWidgets": {},
     "nuid": "6593d0ae-ab64-454e-ab64-f1b8091e2c90",
     "showTitle": false,
     "tableResultSettingsMap": {},
     "title": ""
    }
   },
   "outputs": [],
   "source": [
    "from unitycatalog.ai.core.databricks import DatabricksFunctionClient\n",
    "\n",
    "CATALOG = \"doan\"\n",
    "SCHEMA = \"bakehouse_text2sql\"\n",
    "\n",
    "client = DatabricksFunctionClient()\n",
    "\n",
    "function_info = client.create_python_function(\n",
    "  func=get_columns,\n",
    "  catalog=CATALOG,\n",
    "  schema=SCHEMA,\n",
    "  replace=True,\n",
    "  dependencies=[\"databricks-sdk\"]\n",
    ")"
   ]
  },
  {
   "cell_type": "code",
   "execution_count": 0,
   "metadata": {
    "application/vnd.databricks.v1+cell": {
     "cellMetadata": {
      "byteLimit": 2048000,
      "rowLimit": 10000
     },
     "inputWidgets": {},
     "nuid": "689fb0bb-2ddf-4017-ab02-11e231212928",
     "showTitle": false,
     "tableResultSettingsMap": {},
     "title": ""
    }
   },
   "outputs": [],
   "source": [
    "result = client.execute_function(\n",
    "    function_name=f\"{CATALOG}.{SCHEMA}.get_columns\",\n",
    "    parameters={\"table_name\": \"doan.bakehouse_text2sql.sales_suppliers\", \"column_name\": \"ingredient\"}\n",
    ")\n",
    "\n",
    "result.value"
   ]
  },
  {
   "cell_type": "code",
   "execution_count": 0,
   "metadata": {
    "application/vnd.databricks.v1+cell": {
     "cellMetadata": {},
     "inputWidgets": {},
     "nuid": "e4e0e679-7238-41f1-a12d-9062539c64e3",
     "showTitle": false,
     "tableResultSettingsMap": {},
     "title": ""
    }
   },
   "outputs": [],
   "source": []
  }
 ],
 "metadata": {
  "application/vnd.databricks.v1+notebook": {
   "computePreferences": null,
   "dashboards": [],
   "environmentMetadata": {
    "base_environment": "",
    "environment_version": "2"
   },
   "inputWidgetPreferences": null,
   "language": "python",
   "notebookMetadata": {
    "pythonIndentUnit": 2
   },
   "notebookName": "test_uc_tools",
   "widgets": {}
  },
  "language_info": {
   "name": "python"
  }
 },
 "nbformat": 4,
 "nbformat_minor": 0
}
