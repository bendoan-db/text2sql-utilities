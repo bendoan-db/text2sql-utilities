{
 "cells": [
  {
   "cell_type": "code",
   "execution_count": 0,
   "metadata": {
    "application/vnd.databricks.v1+cell": {
     "cellMetadata": {
      "byteLimit": 2048000,
      "rowLimit": 10000
     },
     "inputWidgets": {},
     "nuid": "b1cb690a-f735-4ea4-a822-003afd07de05",
     "showTitle": false,
     "tableResultSettingsMap": {},
     "title": ""
    }
   },
   "outputs": [],
   "source": [
    "import yaml\n",
    "with open('./../config.yaml', 'r') as file:\n",
    "    config = yaml.safe_load(file)\n",
    "\n",
    "databricks_config = config[\"databricks_config\"]\n",
    "catalog = config[\"databricks_config\"][\"catalog\"]\n",
    "eval_schema = config[\"databricks_config\"][\"eval_schema\"]"
   ]
  },
  {
   "cell_type": "code",
   "execution_count": 0,
   "metadata": {
    "application/vnd.databricks.v1+cell": {
     "cellMetadata": {
      "byteLimit": 2048000,
      "rowLimit": 10000
     },
     "inputWidgets": {},
     "nuid": "04033e07-cc2a-4a6b-a357-c58133967d80",
     "showTitle": false,
     "tableResultSettingsMap": {},
     "title": ""
    }
   },
   "outputs": [],
   "source": [
    "evals = spark.table(f\"{catalog}.{eval_schema}.evals_gold\")"
   ]
  },
  {
   "cell_type": "code",
   "execution_count": 0,
   "metadata": {
    "application/vnd.databricks.v1+cell": {
     "cellMetadata": {
      "byteLimit": 2048000,
      "rowLimit": 10000
     },
     "inputWidgets": {},
     "nuid": "9fec12d5-aab3-4119-998e-f1b14035ea83",
     "showTitle": false,
     "tableResultSettingsMap": {},
     "title": ""
    }
   },
   "outputs": [],
   "source": [
    "from pyspark.sql.functions import col\n",
    "display(evals.filter(col(\"db_id\") == \"financial\"))"
   ]
  },
  {
   "cell_type": "code",
   "execution_count": 0,
   "metadata": {
    "application/vnd.databricks.v1+cell": {
     "cellMetadata": {
      "byteLimit": 2048000,
      "rowLimit": 10000
     },
     "inputWidgets": {},
     "nuid": "cb3e3ee1-409f-4366-92d9-5648c7c25a75",
     "showTitle": false,
     "tableResultSettingsMap": {},
     "title": ""
    }
   },
   "outputs": [],
   "source": [
    "schema_descriptions = [\n",
    "  {\n",
    "    \"name\": \"financial\",\n",
    "    \"descrption\": \"\"\"This database contains data on banking accounts, transactions, customers, and their customer demographic information. Use this to answer questions\n",
    "    \n",
    "    * How many accounts who choose issuance after transaction are staying in East Bohemia region?\n",
    "    * List the loan ID, district and average salary for loan with duration of 12 months.\n",
    "    * In 1996, which districts have the highest unemployment rate? List their branch location and district name.\n",
    "    \"\"\",\n",
    "    \"genie_space_id\": \"12345\"\n",
    "  },\n",
    "  {\n",
    "    \"name\": \"debit_card_specializing\",\n",
    "    \"descrption\": \"\"\"This database contains data on gas consumption across different regions, customers, and purchases. Use this to answer questions such as:\n",
    "    \n",
    "    * Which year recorded the most consumption of gas paid in CZK?\n",
    "    * How much did customer 6 consume in total between August and November 2013?\n",
    "    * Which client segment consumed the least in September 2014?\n",
    "    \"\"\",\n",
    "    \"genie_space_id\": \"12345\"\n",
    "  }\n",
    "]"
   ]
  },
  {
   "cell_type": "code",
   "execution_count": 0,
   "metadata": {
    "application/vnd.databricks.v1+cell": {
     "cellMetadata": {},
     "inputWidgets": {},
     "nuid": "6859efa1-59a9-4c53-826a-c72d9744c393",
     "showTitle": false,
     "tableResultSettingsMap": {},
     "title": ""
    }
   },
   "outputs": [],
   "source": []
  }
 ],
 "metadata": {
  "application/vnd.databricks.v1+notebook": {
   "computePreferences": null,
   "dashboards": [],
   "environmentMetadata": {
    "base_environment": "",
    "environment_version": "2"
   },
   "inputWidgetPreferences": null,
   "language": "python",
   "notebookMetadata": {
    "pythonIndentUnit": 2
   },
   "notebookName": "create_vector_search_index",
   "widgets": {}
  },
  "language_info": {
   "name": "python"
  }
 },
 "nbformat": 4,
 "nbformat_minor": 0
}
