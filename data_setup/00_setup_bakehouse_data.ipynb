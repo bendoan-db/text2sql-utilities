{
 "cells": [
  {
   "cell_type": "code",
   "execution_count": 0,
   "metadata": {
    "application/vnd.databricks.v1+cell": {
     "cellMetadata": {
      "byteLimit": 2048000,
      "rowLimit": 10000
     },
     "inputWidgets": {},
     "nuid": "737ec730-4368-4435-82d7-363fc0c79404",
     "showTitle": false,
     "tableResultSettingsMap": {},
     "title": ""
    }
   },
   "outputs": [],
   "source": [
    "import yaml\n",
    "\n",
    "with open('./../config.yaml', 'r') as file:\n",
    "    config = yaml.safe_load(file)\n",
    "\n",
    "#load global configs\n",
    "databricks_config = config['databricks_config']\n",
    "\n",
    "#load uc configs\n",
    "catalog=databricks_config['catalog']\n",
    "schema=databricks_config['schema']"
   ]
  },
  {
   "cell_type": "code",
   "execution_count": 0,
   "metadata": {
    "application/vnd.databricks.v1+cell": {
     "cellMetadata": {
      "byteLimit": 2048000,
      "rowLimit": 10000
     },
     "inputWidgets": {},
     "nuid": "92ecee22-5c84-4651-8cd0-9c584ebbd0aa",
     "showTitle": false,
     "tableResultSettingsMap": {},
     "title": ""
    }
   },
   "outputs": [],
   "source": [
    "try:\n",
    "  spark.sql(f\"CREATE CATALOG IF NOT EXISTS {catalog}\")\n",
    "except Exception as e: \n",
    "  print(f\"Failed to create catalog {catalog} with exception: {str(e)}\")\n",
    "\n",
    "try:\n",
    "  spark.sql(f\"CREATE SCHEMA IF NOT EXISTS {catalog}.{schema}\")\n",
    "except Exception as e: \n",
    "  print(f\"Failed to create catalog {schema} with exception: {str(e)}\")"
   ]
  },
  {
   "cell_type": "code",
   "execution_count": 0,
   "metadata": {
    "application/vnd.databricks.v1+cell": {
     "cellMetadata": {
      "byteLimit": 2048000,
      "rowLimit": 10000
     },
     "inputWidgets": {},
     "nuid": "ccc1b194-3c01-419a-adfe-07f05ba4b861",
     "showTitle": false,
     "tableResultSettingsMap": {},
     "title": ""
    }
   },
   "outputs": [],
   "source": [
    "tables = [row.tableName for row in spark.sql(\"SHOW TABLES IN samples.bakehouse\").select(\"tableName\").collect()]\n",
    "\n",
    "for table in tables:\n",
    "    try:\n",
    "        spark.sql(f\"CREATE TABLE {catalog}.{schema}.{table} AS SELECT * FROM samples.bakehouse.{table}\")\n",
    "    except Exception as e:\n",
    "        print(f\"Failed to copy table {table} with exception: {str(e)}\")"
   ]
  },
  {
   "cell_type": "code",
   "execution_count": 0,
   "metadata": {
    "application/vnd.databricks.v1+cell": {
     "cellMetadata": {},
     "inputWidgets": {},
     "nuid": "d9420eba-10ae-41fb-a1e1-e2741cc3563e",
     "showTitle": false,
     "tableResultSettingsMap": {},
     "title": ""
    }
   },
   "outputs": [],
   "source": []
  }
 ],
 "metadata": {
  "application/vnd.databricks.v1+notebook": {
   "computePreferences": null,
   "dashboards": [],
   "environmentMetadata": {
    "base_environment": "",
    "environment_version": "2"
   },
   "inputWidgetPreferences": null,
   "language": "python",
   "notebookMetadata": {
    "pythonIndentUnit": 2
   },
   "notebookName": "00_setup_bakehouse_data",
   "widgets": {}
  },
  "language_info": {
   "name": "python"
  }
 },
 "nbformat": 4,
 "nbformat_minor": 0
}
